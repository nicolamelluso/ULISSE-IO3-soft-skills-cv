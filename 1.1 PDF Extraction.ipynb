{
 "cells": [
  {
   "cell_type": "markdown",
   "metadata": {},
   "source": [
    "# ULISSE\n",
    "## Soft Skills Extraction from _Curricula_\n",
    "\n",
    "### 1.1 PDF Extraction\n",
    "Extract a txt file from the PDF\n",
    "\n",
    "## TEST\n",
    "Check if the number of text files is the same of PDFs.\n",
    "\n",
    "## Input\n",
    "1.1i: a folder containing the PDFs\n",
    "## Output\n",
    "1.1o: a folder containing the `txt` files of each PDF"
   ]
  },
  {
   "cell_type": "markdown",
   "metadata": {},
   "source": [
    "### Check the file-list in the folder"
   ]
  },
  {
   "cell_type": "code",
   "execution_count": 51,
   "metadata": {},
   "outputs": [],
   "source": [
    "import os\n",
    "\n",
    "path = './data/input/Portugal/'\n",
    "\n",
    "#create a list of all the 'pdf' files\n",
    "cvs = [cv for cv in os.listdir(path) if 'pdf' in cv]\n",
    "\n",
    "for folder in [cv for cv in os.listdir(path) if '.' not in cv]:\n",
    "    cvs.extend([folder +'/'+ cv for cv in os.listdir(path + folder) if 'pdf' in cv])\n",
    "    if [cv for cv in os.listdir(path + folder) if 'pdf' in cv] == []:\n",
    "        for subfolder  in [f for f in os.listdir(path + folder) if '.' not in f]:\n",
    "            cvs.extend([folder +'/'+ subfolder +'/'+ cv for cv in os.listdir(path + folder + '/' + subfolder) if 'pdf' in cv])\n",
    "    \n",
    "assert len(cvs) == 72\n",
    "assert all('.pdf' in item for item in cvs)"
   ]
  },
  {
   "cell_type": "markdown",
   "metadata": {},
   "source": [
    "### Import PDFs and convert"
   ]
  },
  {
   "cell_type": "code",
   "execution_count": 52,
   "metadata": {},
   "outputs": [
    {
     "name": "stderr",
     "output_type": "stream",
     "text": [
      "100%|██████████| 72/72 [00:04<00:00, 16.92it/s]\n"
     ]
    }
   ],
   "source": [
    "from tika import parser\n",
    "from tqdm import tqdm_notebook\n",
    "from tqdm import tqdm\n",
    "\n",
    "cvs_ = []\n",
    "for cv in tqdm(cvs):\n",
    "    cvs_.append(parser.from_file(path + cv))"
   ]
  },
  {
   "cell_type": "markdown",
   "metadata": {},
   "source": [
    "### Export `txt`"
   ]
  },
  {
   "cell_type": "code",
   "execution_count": 126,
   "metadata": {},
   "outputs": [],
   "source": [
    "path = './data/interim/Portugal'\n",
    "\n",
    "if not os.path.exists(path):\n",
    "    os.mkdir(path)\n",
    "    \n",
    "for cv in cvs_:\n",
    "\n",
    "    if type(cv['metadata']['resourceName']) == str:\n",
    "        \n",
    "        file = open(path + '/' + cv['metadata']['resourceName'].split('.')[0] + '.txt',\"w\") \n",
    "    else:\n",
    "        file = open(path + '/' + cv['metadata']['resourceName'][0].split('.')[0] + '.txt',\"w\") \n",
    "\n",
    "    file.write(cv['content']) \n",
    "    file.close()"
   ]
  },
  {
   "cell_type": "markdown",
   "metadata": {
    "jupyter": {
     "outputs_hidden": true
    }
   },
   "source": [
    "### Test"
   ]
  },
  {
   "cell_type": "code",
   "execution_count": 129,
   "metadata": {},
   "outputs": [],
   "source": [
    "cvs_files = set([f.split('.')[0] for f in os.listdir(path) if f.split('.')[0] != ''])\n",
    "cvs_list = set([f.split('.')[0].split('/')[-1] for f in cvs])\n",
    "assert cvs_list == cvs_files"
   ]
  }
 ],
 "metadata": {
  "kernelspec": {
   "display_name": "spacy_env",
   "language": "python",
   "name": "spacy_env"
  },
  "language_info": {
   "codemirror_mode": {
    "name": "ipython",
    "version": 3
   },
   "file_extension": ".py",
   "mimetype": "text/x-python",
   "name": "python",
   "nbconvert_exporter": "python",
   "pygments_lexer": "ipython3",
   "version": "3.6.7"
  }
 },
 "nbformat": 4,
 "nbformat_minor": 4
}
