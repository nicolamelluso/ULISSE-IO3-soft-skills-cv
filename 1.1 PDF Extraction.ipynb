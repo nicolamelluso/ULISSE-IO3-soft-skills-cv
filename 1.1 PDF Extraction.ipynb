{
 "cells": [
  {
   "cell_type": "markdown",
   "metadata": {},
   "source": [
    "# ULISSE\n",
    "## Soft Skills Extraction from _Curricula_\n",
    "\n",
    "### 1.1 PDF Extraction\n",
    "Extract a txt file from the PDF\n",
    "\n",
    "## TEST\n",
    "Check if the number of text files is the same of PDFs.\n",
    "\n",
    "## Input\n",
    "1.1i: a folder containing the PDFs\n",
    "## Output\n",
    "1.1o: a folder containing the `txt` files of each PDF"
   ]
  }
 ],
 "metadata": {
  "kernelspec": {
   "display_name": "spacy_env",
   "language": "python",
   "name": "spacy_env"
  },
  "language_info": {
   "codemirror_mode": {
    "name": "ipython",
    "version": 3
   },
   "file_extension": ".py",
   "mimetype": "text/x-python",
   "name": "python",
   "nbconvert_exporter": "python",
   "pygments_lexer": "ipython3",
   "version": "3.6.7"
  }
 },
 "nbformat": 4,
 "nbformat_minor": 4
}
